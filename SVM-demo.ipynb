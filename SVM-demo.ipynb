{
 "cells": [
  {
   "cell_type": "code",
   "execution_count": 63,
   "id": "4261e2cf-c025-4628-abb3-d45380c211fa",
   "metadata": {},
   "outputs": [],
   "source": [
    "from sklearn.datasets import load_iris\n",
    "import numpy\n",
    "import pandas as pd"
   ]
  },
  {
   "cell_type": "code",
   "execution_count": 81,
   "id": "2b6ee7cb-df20-4cf6-acd6-7b526bcfb53d",
   "metadata": {},
   "outputs": [],
   "source": [
    "i = load_iris()"
   ]
  },
  {
   "cell_type": "code",
   "execution_count": 65,
   "id": "66fd4a80-c2ef-4fa3-bea8-0d5b09b520f6",
   "metadata": {},
   "outputs": [
    {
     "data": {
      "text/plain": [
       "['DESCR',\n",
       " 'data',\n",
       " 'data_module',\n",
       " 'feature_names',\n",
       " 'filename',\n",
       " 'frame',\n",
       " 'target',\n",
       " 'target_names']"
      ]
     },
     "execution_count": 65,
     "metadata": {},
     "output_type": "execute_result"
    }
   ],
   "source": [
    "dir(i)"
   ]
  },
  {
   "cell_type": "code",
   "execution_count": 66,
   "id": "a4b56b28-aac8-4f59-91ec-86fd21976104",
   "metadata": {},
   "outputs": [],
   "source": [
    "x=i.data\n",
    "y=i.target"
   ]
  },
  {
   "cell_type": "code",
   "execution_count": 84,
   "id": "d5404f46-6cff-45bb-97fe-4e875e72c0b8",
   "metadata": {},
   "outputs": [
    {
     "data": {
      "text/plain": [
       "array([[5.1, 3.5, 1.4, 0.2],\n",
       "       [4.9, 3. , 1.4, 0.2],\n",
       "       [4.7, 3.2, 1.3, 0.2],\n",
       "       [4.6, 3.1, 1.5, 0.2],\n",
       "       [5. , 3.6, 1.4, 0.2],\n",
       "       [5.4, 3.9, 1.7, 0.4],\n",
       "       [4.6, 3.4, 1.4, 0.3],\n",
       "       [5. , 3.4, 1.5, 0.2],\n",
       "       [4.4, 2.9, 1.4, 0.2],\n",
       "       [4.9, 3.1, 1.5, 0.1]])"
      ]
     },
     "execution_count": 84,
     "metadata": {},
     "output_type": "execute_result"
    }
   ],
   "source": [
    "x[:10]"
   ]
  },
  {
   "cell_type": "code",
   "execution_count": 68,
   "id": "dcc7dd1e-722e-48f4-8d70-21901d8fc3d9",
   "metadata": {},
   "outputs": [
    {
     "data": {
      "text/plain": [
       "(numpy.ndarray, numpy.ndarray)"
      ]
     },
     "execution_count": 68,
     "metadata": {},
     "output_type": "execute_result"
    }
   ],
   "source": [
    "type(x),type(y)"
   ]
  },
  {
   "cell_type": "code",
   "execution_count": 69,
   "id": "4d05abed-f7fb-4c27-a38a-04008b72ac50",
   "metadata": {},
   "outputs": [
    {
     "data": {
      "text/plain": [
       "(150, 150)"
      ]
     },
     "execution_count": 69,
     "metadata": {},
     "output_type": "execute_result"
    }
   ],
   "source": [
    "x.__len__(),y.__len__()"
   ]
  },
  {
   "cell_type": "code",
   "execution_count": 88,
   "id": "0242dbbb-d9e7-4a9a-ac2b-85ada064f12f",
   "metadata": {},
   "outputs": [],
   "source": [
    "avg_of_x = [sum(a)/len(a) for a in x]"
   ]
  },
  {
   "cell_type": "code",
   "execution_count": 92,
   "id": "5a047da5-7ff2-45db-b4d9-767a01e47bfe",
   "metadata": {},
   "outputs": [
    {
     "data": {
      "text/plain": [
       "<matplotlib.collections.PathCollection at 0x7f15f9360d60>"
      ]
     },
     "execution_count": 92,
     "metadata": {},
     "output_type": "execute_result"
    },
    {
     "data": {
      "image/png": "[encoded data removed]",
      "text/plain": [
       "<Figure size 640x480 with 1 Axes>"
      ]
     },
     "metadata": {},
     "output_type": "display_data"
    }
   ],
   "source": [
    "import matplotlib.pyplot as plt\n",
    "plt.scatter(avg_of_x,y)"
   ]
  },
  {
   "cell_type": "code",
   "execution_count": null,
   "id": "cefd7f86-810d-4ac7-8def-05d5cfb5348c",
   "metadata": {},
   "outputs": [],
   "source": [
    "from sklearn.model_selection import train_test_split"
   ]
  },
  {
   "cell_type": "code",
   "execution_count": null,
   "id": "ef1eecca-a7d5-4b46-8b5c-64166cb2c18d",
   "metadata": {},
   "outputs": [],
   "source": [
    "train_x,test_x,train_y,test_y = train_test_split(x,y,test_size=0.2)"
   ]
  },
  {
   "cell_type": "code",
   "execution_count": null,
   "id": "bf78e80b-9ab7-45e3-814e-38ea6a5f766a",
   "metadata": {},
   "outputs": [],
   "source": [
    "len(train_x),len(test_x)"
   ]
  },
  {
   "cell_type": "code",
   "execution_count": null,
   "id": "1eb0666b-0ebd-4de1-b2fe-512cd1e9dbed",
   "metadata": {},
   "outputs": [],
   "source": [
    "from sklearn.svm import SVR"
   ]
  },
  {
   "cell_type": "code",
   "execution_count": null,
   "id": "c822c5a4-c1bb-4a96-bbe6-6e80bc892f81",
   "metadata": {},
   "outputs": [],
   "source": [
    "model = SVR()"
   ]
  },
  {
   "cell_type": "code",
   "execution_count": null,
   "id": "8c7dcc47-4026-466d-8a1c-72c3e8f86378",
   "metadata": {},
   "outputs": [],
   "source": [
    "model.fit(train_x,train_y)"
   ]
  },
  {
   "cell_type": "code",
   "execution_count": 80,
   "id": "e5252fd2-576f-4dda-9bac-5d6958d1fd79",
   "metadata": {},
   "outputs": [
    {
     "data": {
      "text/plain": [
       "0.9433910997054705"
      ]
     },
     "execution_count": 80,
     "metadata": {},
     "output_type": "execute_result"
    }
   ],
   "source": [
    "model.score(test_x,test_y)"
   ]
  },
  {
   "cell_type": "code",
   "execution_count": null,
   "id": "b734641a-0ce3-4335-9ab2-4f3ccb46098c",
   "metadata": {},
   "outputs": [],
   "source": []
  }
 ],
 "metadata": {
  "kernelspec": {
   "display_name": "Python 3 (ipykernel)",
   "language": "python",
   "name": "python3"
  },
  "language_info": {
   "codemirror_mode": {
    "name": "ipython",
    "version": 3
   },
   "file_extension": ".py",
   "mimetype": "text/x-python",
   "name": "python",
   "nbconvert_exporter": "python",
   "pygments_lexer": "ipython3",
   "version": "3.9.2"
  }
 },
 "nbformat": 4,
 "nbformat_minor": 5
}

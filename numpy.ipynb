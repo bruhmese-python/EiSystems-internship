{
 "cells": [
  {
   "cell_type": "code",
   "execution_count": 6,
   "id": "b1e651be-5ae3-493e-9ab4-ba2acabb618d",
   "metadata": {},
   "outputs": [
    {
     "name": "stdout",
     "output_type": "stream",
     "text": [
      "abc\n"
     ]
    }
   ],
   "source": [
    "print(\"abc\")"
   ]
  },
  {
   "cell_type": "code",
   "execution_count": 7,
   "id": "76f5dacc-e45f-4cdd-a6f1-168df60a21d3",
   "metadata": {},
   "outputs": [],
   "source": [
    "import numpy as np"
   ]
  },
  {
   "cell_type": "code",
   "execution_count": 8,
   "id": "42d1e5bc-469d-49b8-b141-aaba52365942",
   "metadata": {},
   "outputs": [],
   "source": [
    "a= [2,8,4,6,7]"
   ]
  },
  {
   "cell_type": "code",
   "execution_count": 9,
   "id": "47a91854-a183-480b-8f36-aee1305d6ca4",
   "metadata": {},
   "outputs": [
    {
     "data": {
      "text/plain": [
       "list"
      ]
     },
     "execution_count": 9,
     "metadata": {},
     "output_type": "execute_result"
    }
   ],
   "source": [
    "type(a)"
   ]
  },
  {
   "cell_type": "code",
   "execution_count": 10,
   "id": "959059cc-e6cf-480b-a507-f886bfb86811",
   "metadata": {},
   "outputs": [],
   "source": [
    "a= np.array(a)"
   ]
  },
  {
   "cell_type": "code",
   "execution_count": 11,
   "id": "9ffa4f69-43a2-40d3-87d9-43a189e2c501",
   "metadata": {},
   "outputs": [
    {
     "data": {
      "text/plain": [
       "numpy.ndarray"
      ]
     },
     "execution_count": 11,
     "metadata": {},
     "output_type": "execute_result"
    }
   ],
   "source": [
    "type(a)"
   ]
  },
  {
   "cell_type": "code",
   "execution_count": 12,
   "id": "71a13bfa-42fb-4480-88a3-7f57cb59412e",
   "metadata": {},
   "outputs": [
    {
     "data": {
      "text/plain": [
       "dtype('int64')"
      ]
     },
     "execution_count": 12,
     "metadata": {},
     "output_type": "execute_result"
    }
   ],
   "source": [
    "a.dtype"
   ]
  },
  {
   "cell_type": "code",
   "execution_count": 13,
   "id": "af5022a2-6295-43fe-a73b-c4c1c1e1c402",
   "metadata": {},
   "outputs": [
    {
     "data": {
      "text/plain": [
       "1"
      ]
     },
     "execution_count": 13,
     "metadata": {},
     "output_type": "execute_result"
    }
   ],
   "source": [
    "a.ndim"
   ]
  },
  {
   "cell_type": "code",
   "execution_count": 14,
   "id": "ce4846b5-ec8b-4252-b78e-7363342cdd13",
   "metadata": {},
   "outputs": [
    {
     "data": {
      "text/plain": [
       "5"
      ]
     },
     "execution_count": 14,
     "metadata": {},
     "output_type": "execute_result"
    }
   ],
   "source": [
    "a.size"
   ]
  },
  {
   "cell_type": "code",
   "execution_count": 15,
   "id": "c4e1f3b9-ace4-4aaf-a55a-00dccd79be89",
   "metadata": {},
   "outputs": [
    {
     "data": {
      "text/plain": [
       "5"
      ]
     },
     "execution_count": 15,
     "metadata": {},
     "output_type": "execute_result"
    }
   ],
   "source": [
    "len(a)"
   ]
  },
  {
   "cell_type": "code",
   "execution_count": 16,
   "id": "03581a18-783d-4b6e-9ea1-2ae32ecf3093",
   "metadata": {},
   "outputs": [
    {
     "data": {
      "text/plain": [
       "27"
      ]
     },
     "execution_count": 16,
     "metadata": {},
     "output_type": "execute_result"
    }
   ],
   "source": [
    "a.sum()"
   ]
  },
  {
   "cell_type": "markdown",
   "id": "5159e4f3-611b-4cfe-b3b9-69f440808e7f",
   "metadata": {
    "editable": true,
    "slideshow": {
     "slide_type": ""
    },
    "tags": []
   },
   "source": [
    "different ways to create an array"
   ]
  },
  {
   "cell_type": "code",
   "execution_count": 17,
   "id": "4c5bf2c1-2b0b-4589-88ea-3c98d72a69c7",
   "metadata": {},
   "outputs": [],
   "source": [
    "a1=np.array([3,5,5,6,2,894,1.24],dtype=\"int\")"
   ]
  },
  {
   "cell_type": "code",
   "execution_count": 18,
   "id": "f94a1d61-fc6b-4350-b82a-9570f5c29588",
   "metadata": {},
   "outputs": [
    {
     "data": {
      "text/plain": [
       "array([  3,   5,   5,   6,   2, 894,   1])"
      ]
     },
     "execution_count": 18,
     "metadata": {},
     "output_type": "execute_result"
    }
   ],
   "source": [
    "a1"
   ]
  },
  {
   "cell_type": "code",
   "execution_count": 19,
   "id": "59cc9093-e1a4-4662-a060-726a33a93e7e",
   "metadata": {},
   "outputs": [
    {
     "data": {
      "text/plain": [
       "numpy.ndarray"
      ]
     },
     "execution_count": 19,
     "metadata": {},
     "output_type": "execute_result"
    }
   ],
   "source": [
    "type(a1)"
   ]
  },
  {
   "cell_type": "code",
   "execution_count": 20,
   "id": "4bb56c68-a2ac-4f58-84cb-8f0d749d6633",
   "metadata": {},
   "outputs": [
    {
     "data": {
      "text/plain": [
       "dtype('int64')"
      ]
     },
     "execution_count": 20,
     "metadata": {},
     "output_type": "execute_result"
    }
   ],
   "source": [
    "a1.dtype"
   ]
  },
  {
   "cell_type": "code",
   "execution_count": 21,
   "id": "484ad204-73bd-4804-8cb5-d6d392b18056",
   "metadata": {},
   "outputs": [],
   "source": [
    "a2= np.arange(1,9,2,dtype=\"float\")"
   ]
  },
  {
   "cell_type": "code",
   "execution_count": 22,
   "id": "e52c0581-e017-42a0-aedb-2feae15dd9c8",
   "metadata": {},
   "outputs": [
    {
     "data": {
      "text/plain": [
       "array([1., 3., 5., 7.])"
      ]
     },
     "execution_count": 22,
     "metadata": {},
     "output_type": "execute_result"
    }
   ],
   "source": [
    "a2"
   ]
  },
  {
   "cell_type": "code",
   "execution_count": 23,
   "id": "dc7a2b89-00a0-4a44-9474-62ddca109e8b",
   "metadata": {},
   "outputs": [],
   "source": [
    "a3 = np.linspace(4,9,12)"
   ]
  },
  {
   "cell_type": "code",
   "execution_count": 24,
   "id": "6f45acd0-5166-4fe0-b12f-4bb666366643",
   "metadata": {},
   "outputs": [
    {
     "data": {
      "text/plain": [
       "array([4.        , 4.45454545, 4.90909091, 5.36363636, 5.81818182,\n",
       "       6.27272727, 6.72727273, 7.18181818, 7.63636364, 8.09090909,\n",
       "       8.54545455, 9.        ])"
      ]
     },
     "execution_count": 24,
     "metadata": {},
     "output_type": "execute_result"
    }
   ],
   "source": [
    "a3"
   ]
  },
  {
   "cell_type": "code",
   "execution_count": 25,
   "id": "b5abc7d8-92d0-4365-ae92-a03900a46546",
   "metadata": {},
   "outputs": [
    {
     "data": {
      "text/plain": [
       "array([1.00000000e+01, 1.20679264e+01, 1.45634848e+01, 1.75751062e+01,\n",
       "       2.12095089e+01, 2.55954792e+01, 3.08884360e+01, 3.72759372e+01,\n",
       "       4.49843267e+01, 5.42867544e+01, 6.55128557e+01, 7.90604321e+01,\n",
       "       9.54095476e+01, 1.15139540e+02, 1.38949549e+02, 1.67683294e+02,\n",
       "       2.02358965e+02, 2.44205309e+02, 2.94705170e+02, 3.55648031e+02,\n",
       "       4.29193426e+02, 5.17947468e+02, 6.25055193e+02, 7.54312006e+02,\n",
       "       9.10298178e+02, 1.09854114e+03, 1.32571137e+03, 1.59985872e+03,\n",
       "       1.93069773e+03, 2.32995181e+03, 2.81176870e+03, 3.39322177e+03,\n",
       "       4.09491506e+03, 4.94171336e+03, 5.96362332e+03, 7.19685673e+03,\n",
       "       8.68511374e+03, 1.04811313e+04, 1.26485522e+04, 1.52641797e+04,\n",
       "       1.84206997e+04, 2.22299648e+04, 2.68269580e+04, 3.23745754e+04,\n",
       "       3.90693994e+04, 4.71486636e+04, 5.68986603e+04, 6.86648845e+04,\n",
       "       8.28642773e+04, 1.00000000e+05])"
      ]
     },
     "execution_count": 25,
     "metadata": {},
     "output_type": "execute_result"
    }
   ],
   "source": [
    "np.logspace(1,5)"
   ]
  },
  {
   "cell_type": "code",
   "execution_count": 26,
   "id": "7bb68677-f32e-484d-a727-e0a7be17dfab",
   "metadata": {},
   "outputs": [
    {
     "data": {
      "text/plain": [
       "array([1.e+01, 1.e+02, 1.e+03, 1.e+04, 1.e+05])"
      ]
     },
     "execution_count": 26,
     "metadata": {},
     "output_type": "execute_result"
    }
   ],
   "source": [
    "np.logspace(1,5,5)"
   ]
  },
  {
   "cell_type": "code",
   "execution_count": 27,
   "id": "d5ddc862-eac4-477a-8d97-f8f243ce969f",
   "metadata": {},
   "outputs": [
    {
     "data": {
      "text/plain": [
       "array([0., 0., 0., 0., 0.])"
      ]
     },
     "execution_count": 27,
     "metadata": {},
     "output_type": "execute_result"
    }
   ],
   "source": [
    "np.zeros(5)"
   ]
  },
  {
   "cell_type": "code",
   "execution_count": 28,
   "id": "13912abf-1ace-44c9-9788-7082b9f2cf56",
   "metadata": {},
   "outputs": [
    {
     "data": {
      "text/plain": [
       "array([1., 1., 1., 1., 1., 1., 1., 1., 1., 1.])"
      ]
     },
     "execution_count": 28,
     "metadata": {},
     "output_type": "execute_result"
    }
   ],
   "source": [
    "np.ones(10)"
   ]
  },
  {
   "cell_type": "markdown",
   "id": "982b93e2-ef6a-466a-91b3-84a59b6266ce",
   "metadata": {},
   "source": [
    "2D array"
   ]
  },
  {
   "cell_type": "code",
   "execution_count": 29,
   "id": "6af7a32e-d64c-4c78-b082-a3450c7f3358",
   "metadata": {},
   "outputs": [],
   "source": [
    "a= np.array([21,132,51,7,54,2,72,746])"
   ]
  },
  {
   "cell_type": "code",
   "execution_count": 30,
   "id": "a4683082-b47e-4ef6-a693-207ea0fdd15a",
   "metadata": {},
   "outputs": [
    {
     "data": {
      "text/plain": [
       "array([ 21, 132,  51,   7,  54,   2,  72, 746])"
      ]
     },
     "execution_count": 30,
     "metadata": {},
     "output_type": "execute_result"
    }
   ],
   "source": [
    "a"
   ]
  },
  {
   "cell_type": "code",
   "execution_count": 31,
   "id": "e728dddb-8308-497b-983e-8fbb960ae6e1",
   "metadata": {},
   "outputs": [
    {
     "data": {
      "text/plain": [
       "1"
      ]
     },
     "execution_count": 31,
     "metadata": {},
     "output_type": "execute_result"
    }
   ],
   "source": [
    "a.ndim"
   ]
  },
  {
   "cell_type": "code",
   "execution_count": 32,
   "id": "4b4c5eb3-9968-43e5-b428-7a41ce45dece",
   "metadata": {},
   "outputs": [],
   "source": [
    "a= np.array([[21,132,2,72,746],[21,132,51,7,54]])"
   ]
  },
  {
   "cell_type": "code",
   "execution_count": 33,
   "id": "fd11665f-2cb4-4487-af31-c7feff47bf59",
   "metadata": {},
   "outputs": [
    {
     "data": {
      "text/plain": [
       "array([[ 21, 132,   2,  72, 746],\n",
       "       [ 21, 132,  51,   7,  54]])"
      ]
     },
     "execution_count": 33,
     "metadata": {},
     "output_type": "execute_result"
    }
   ],
   "source": [
    "a"
   ]
  },
  {
   "cell_type": "code",
   "execution_count": 34,
   "id": "98c7b4a8-c0ec-421a-90e2-aa0a660dd202",
   "metadata": {},
   "outputs": [
    {
     "data": {
      "text/plain": [
       "2"
      ]
     },
     "execution_count": 34,
     "metadata": {},
     "output_type": "execute_result"
    }
   ],
   "source": [
    "a.ndim"
   ]
  },
  {
   "cell_type": "code",
   "execution_count": 35,
   "id": "6b4e64c6-d87b-4945-bbd4-4ee6486eb7e7",
   "metadata": {},
   "outputs": [
    {
     "data": {
      "text/plain": [
       "(array([ 21, 132,   2,  72, 746]), array([ 21, 132,  51,   7,  54]))"
      ]
     },
     "execution_count": 35,
     "metadata": {},
     "output_type": "execute_result"
    }
   ],
   "source": [
    "a[0],a[-1]"
   ]
  },
  {
   "cell_type": "code",
   "execution_count": 36,
   "id": "e8798750-1d2d-4e83-beba-72be9afe4b61",
   "metadata": {},
   "outputs": [
    {
     "data": {
      "text/plain": [
       "72"
      ]
     },
     "execution_count": 36,
     "metadata": {},
     "output_type": "execute_result"
    }
   ],
   "source": [
    "a[0,3]"
   ]
  },
  {
   "cell_type": "code",
   "execution_count": 37,
   "id": "d3a7cd44-3619-4704-8072-ab48ac904477",
   "metadata": {},
   "outputs": [
    {
     "data": {
      "text/plain": [
       "54"
      ]
     },
     "execution_count": 37,
     "metadata": {},
     "output_type": "execute_result"
    }
   ],
   "source": [
    "a[1,-1]"
   ]
  },
  {
   "cell_type": "code",
   "execution_count": 38,
   "id": "b26d2561-29c0-49f6-989f-670e2273573a",
   "metadata": {},
   "outputs": [
    {
     "data": {
      "text/plain": [
       "(2, 5)"
      ]
     },
     "execution_count": 38,
     "metadata": {},
     "output_type": "execute_result"
    }
   ],
   "source": [
    "a.shape"
   ]
  },
  {
   "cell_type": "code",
   "execution_count": 39,
   "id": "1511e689-83fe-40f6-826d-4e48049ddc88",
   "metadata": {},
   "outputs": [
    {
     "data": {
      "text/plain": [
       "array([ 21, 132,   2,  72, 746,  21, 132,  51,   7,  54])"
      ]
     },
     "execution_count": 39,
     "metadata": {},
     "output_type": "execute_result"
    }
   ],
   "source": [
    "a.ravel()\n"
   ]
  },
  {
   "cell_type": "code",
   "execution_count": 40,
   "id": "39e9b0f7-3cfb-43c9-8f1f-11d9e10b719a",
   "metadata": {},
   "outputs": [],
   "source": [
    "b = np.arange(5,800,50)"
   ]
  },
  {
   "cell_type": "code",
   "execution_count": 41,
   "id": "e8d9198b-6cab-4337-ac88-657a2e9f9a98",
   "metadata": {},
   "outputs": [
    {
     "data": {
      "text/plain": [
       "array([  5,  55, 105, 155, 205, 255, 305, 355, 405, 455, 505, 555, 605,\n",
       "       655, 705, 755])"
      ]
     },
     "execution_count": 41,
     "metadata": {},
     "output_type": "execute_result"
    }
   ],
   "source": [
    "b"
   ]
  },
  {
   "cell_type": "code",
   "execution_count": 42,
   "id": "d6f77b34-e7d1-47b8-9b7f-d865953a3cee",
   "metadata": {},
   "outputs": [
    {
     "data": {
      "text/plain": [
       "array([[  5,  55, 105, 155],\n",
       "       [205, 255, 305, 355],\n",
       "       [405, 455, 505, 555],\n",
       "       [605, 655, 705, 755]])"
      ]
     },
     "execution_count": 42,
     "metadata": {},
     "output_type": "execute_result"
    }
   ],
   "source": [
    "b.reshape(4,4)"
   ]
  },
  {
   "cell_type": "code",
   "execution_count": 43,
   "id": "5555ed67-374a-4424-b65b-46bde280e6b9",
   "metadata": {},
   "outputs": [
    {
     "data": {
      "text/plain": [
       "array([[ 1.,  2.],\n",
       "       [ 3.,  4.],\n",
       "       [ 5.,  6.],\n",
       "       [ 7.,  8.],\n",
       "       [ 9., 10.],\n",
       "       [11., 12.],\n",
       "       [13., 14.],\n",
       "       [15., 16.],\n",
       "       [17., 18.],\n",
       "       [19., 20.]])"
      ]
     },
     "execution_count": 43,
     "metadata": {},
     "output_type": "execute_result"
    }
   ],
   "source": [
    "np.linspace(1,20,20).reshape(10,2)"
   ]
  },
  {
   "cell_type": "markdown",
   "id": "770c2871-2fd8-46fe-8387-079a1a564345",
   "metadata": {},
   "source": [
    "3D array"
   ]
  },
  {
   "cell_type": "code",
   "execution_count": 44,
   "id": "2e67192f-6b5c-469f-853e-a209aed35eb4",
   "metadata": {},
   "outputs": [],
   "source": [
    " a= np.array([[[2,4,7,9],[2,3,4,5]],[[2,4,7,9],[2,3,4,5]]])"
   ]
  },
  {
   "cell_type": "code",
   "execution_count": 45,
   "id": "fed26eba-a850-4388-af51-35d2eb28d4f1",
   "metadata": {},
   "outputs": [
    {
     "data": {
      "text/plain": [
       "array([[[2, 4, 7, 9],\n",
       "        [2, 3, 4, 5]],\n",
       "\n",
       "       [[2, 4, 7, 9],\n",
       "        [2, 3, 4, 5]]])"
      ]
     },
     "execution_count": 45,
     "metadata": {},
     "output_type": "execute_result"
    }
   ],
   "source": [
    "a"
   ]
  },
  {
   "cell_type": "code",
   "execution_count": 51,
   "id": "f1c1aa39-5755-4d25-b9b8-1be4a36572f9",
   "metadata": {},
   "outputs": [
    {
     "data": {
      "text/plain": [
       "array([4, 7])"
      ]
     },
     "execution_count": 51,
     "metadata": {},
     "output_type": "execute_result"
    }
   ],
   "source": [
    "a[1][0,1:3]"
   ]
  },
  {
   "cell_type": "code",
   "execution_count": 52,
   "id": "ae23b5e2-c25b-4d4d-a43e-aa4d01520ea2",
   "metadata": {},
   "outputs": [
    {
     "data": {
      "text/plain": [
       "array([4, 7])"
      ]
     },
     "execution_count": 52,
     "metadata": {},
     "output_type": "execute_result"
    }
   ],
   "source": [
    "a[1,0,1:3]"
   ]
  },
  {
   "cell_type": "code",
   "execution_count": 56,
   "id": "a8edd3d6-9860-43d3-9696-c506a485981f",
   "metadata": {},
   "outputs": [
    {
     "data": {
      "text/plain": [
       "array([[[2, 5]],\n",
       "\n",
       "       [[2, 5]]])"
      ]
     },
     "execution_count": 56,
     "metadata": {},
     "output_type": "execute_result"
    }
   ],
   "source": [
    "a[:,1:2,::3]"
   ]
  },
  {
   "cell_type": "code",
   "execution_count": 58,
   "id": "dcb2ec48-33ca-4eb7-8654-b60eca33c8cc",
   "metadata": {},
   "outputs": [],
   "source": [
    "a = np.arange(30).reshape([3,2,5])"
   ]
  },
  {
   "cell_type": "code",
   "execution_count": 59,
   "id": "ce99d8aa-488d-424c-96ce-feaee9d38dfe",
   "metadata": {},
   "outputs": [
    {
     "data": {
      "text/plain": [
       "array([[[ 0,  1,  2,  3,  4],\n",
       "        [ 5,  6,  7,  8,  9]],\n",
       "\n",
       "       [[10, 11, 12, 13, 14],\n",
       "        [15, 16, 17, 18, 19]],\n",
       "\n",
       "       [[20, 21, 22, 23, 24],\n",
       "        [25, 26, 27, 28, 29]]])"
      ]
     },
     "execution_count": 59,
     "metadata": {},
     "output_type": "execute_result"
    }
   ],
   "source": [
    "a"
   ]
  },
  {
   "cell_type": "code",
   "execution_count": 63,
   "id": "39cbe59b-f254-4ff1-a50b-0b031a2945ea",
   "metadata": {},
   "outputs": [
    {
     "data": {
      "text/plain": [
       "array([ 0,  1,  2,  3,  4,  5,  6,  7,  8,  9, 10, 11, 12, 13, 14, 15, 16,\n",
       "       17, 18, 19, 20, 21, 22, 23, 24, 25, 26, 27, 28, 29])"
      ]
     },
     "execution_count": 63,
     "metadata": {},
     "output_type": "execute_result"
    }
   ],
   "source": [
    "a.ravel()"
   ]
  },
  {
   "cell_type": "code",
   "execution_count": 67,
   "id": "5e792f2f-251d-41ad-946c-9832a052ef0f",
   "metadata": {},
   "outputs": [
    {
     "data": {
      "text/plain": [
       "(3, 2, 5)"
      ]
     },
     "execution_count": 67,
     "metadata": {},
     "output_type": "execute_result"
    }
   ],
   "source": [
    "a.shape"
   ]
  },
  {
   "cell_type": "code",
   "execution_count": 71,
   "id": "7e921484-30d6-4b00-8172-9e6e0a605997",
   "metadata": {},
   "outputs": [
    {
     "data": {
      "text/plain": [
       "array([[ 0,  1,  2,  3,  4,  5,  6,  7,  8,  9],\n",
       "       [10, 11, 12, 13, 14, 15, 16, 17, 18, 19],\n",
       "       [20, 21, 22, 23, 24, 25, 26, 27, 28, 29]])"
      ]
     },
     "execution_count": 71,
     "metadata": {},
     "output_type": "execute_result"
    }
   ],
   "source": [
    "a.reshape(3,10)"
   ]
  },
  {
   "cell_type": "code",
   "execution_count": null,
   "id": "42c0ef12-dfd5-4e12-adee-01970ece7bb2",
   "metadata": {},
   "outputs": [],
   "source": []
  }
 ],
 "metadata": {
  "kernelspec": {
   "display_name": "Python 3 (ipykernel)",
   "language": "python",
   "name": "python3"
  },
  "language_info": {
   "codemirror_mode": {
    "name": "ipython",
    "version": 3
   },
   "file_extension": ".py",
   "mimetype": "text/x-python",
   "name": "python",
   "nbconvert_exporter": "python",
   "pygments_lexer": "ipython3",
   "version": "3.9.2"
  }
 },
 "nbformat": 4,
 "nbformat_minor": 5
}
